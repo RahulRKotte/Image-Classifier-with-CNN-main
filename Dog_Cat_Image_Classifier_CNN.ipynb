{
  "cells": [
    {
      "cell_type": "markdown",
      "metadata": {
        "id": "t03yUK4t6cCw"
      },
      "source": [
        "# Importing the libraries"
      ]
    },
    {
      "cell_type": "code",
      "execution_count": null,
      "metadata": {
        "id": "dKPDONiT6gQY"
      },
      "outputs": [],
      "source": [
        "import tensorflow as tf\n",
        "from keras.preprocessing.image import ImageDataGenerator\n",
        "import numpy as np\n",
        "from keras.preprocessing.image import image"
      ]
    },
    {
      "cell_type": "markdown",
      "metadata": {
        "id": "PUWb96qZ7YRg"
      },
      "source": [
        "# Data Preprocessing"
      ]
    },
    {
      "cell_type": "markdown",
      "metadata": {
        "id": "ddr2KT3q7dKc"
      },
      "source": [
        "Preprocessing the training set"
      ]
    },
    {
      "cell_type": "code",
      "execution_count": null,
      "metadata": {
        "id": "gHuSP4FH7b2Z",
        "colab": {
          "base_uri": "https://localhost:8080/"
        },
        "outputId": "d2e6ed63-639a-40c6-be9a-fbbcd2eedc4e"
      },
      "outputs": [
        {
          "output_type": "stream",
          "name": "stdout",
          "text": [
            "Found 8114 images belonging to 2 classes.\n"
          ]
        }
      ],
      "source": [
        "train_datagen = ImageDataGenerator(rescale = 1./255,\n",
        "                                   shear_range = 0.2,\n",
        "                                   zoom_range = 0.2,\n",
        "                                   horizontal_flip = True)\n",
        "training_set = train_datagen.flow_from_directory('/content/drive/MyDrive/dataset/training_set',\n",
        "                                                 target_size = (64, 64),\n",
        "                                                 batch_size = 32,\n",
        "                                                 class_mode = 'binary')"
      ]
    },
    {
      "cell_type": "markdown",
      "metadata": {
        "id": "dIAjVw417q8N"
      },
      "source": [
        "Preprocessing the Test set"
      ]
    },
    {
      "cell_type": "code",
      "execution_count": null,
      "metadata": {
        "id": "IfkAcFjM7tm5",
        "colab": {
          "base_uri": "https://localhost:8080/"
        },
        "outputId": "b6abc1da-adf3-44d0-e797-a2c75dc423e6"
      },
      "outputs": [
        {
          "output_type": "stream",
          "name": "stdout",
          "text": [
            "Found 2000 images belonging to 2 classes.\n"
          ]
        }
      ],
      "source": [
        "test_datagen = ImageDataGenerator(rescale = 1./255)\n",
        "test_set = test_datagen.flow_from_directory('/content/drive/MyDrive/dataset/test_set',\n",
        "                                            target_size = (64, 64),\n",
        "                                            batch_size = 32,\n",
        "                                            class_mode = 'binary')"
      ]
    },
    {
      "cell_type": "markdown",
      "metadata": {
        "id": "PUOCpOr_7yxV"
      },
      "source": [
        "# Building the CNN"
      ]
    },
    {
      "cell_type": "markdown",
      "metadata": {
        "id": "tSz_6Lf373d5"
      },
      "source": [
        "Initializing the CNN"
      ]
    },
    {
      "cell_type": "code",
      "execution_count": null,
      "metadata": {
        "id": "aCyLeRJC8C4w"
      },
      "outputs": [],
      "source": [
        "cnn = tf.keras.models.Sequential()"
      ]
    },
    {
      "cell_type": "markdown",
      "metadata": {
        "id": "91cZAWUB7-Tl"
      },
      "source": [
        "Convolution"
      ]
    },
    {
      "cell_type": "code",
      "execution_count": null,
      "metadata": {
        "id": "4m3g_UwD71Zp"
      },
      "outputs": [],
      "source": [
        "cnn.add(tf.keras.layers.Conv2D(filters=32, kernel_size=3, activation='relu', input_shape=[64, 64, 3]))"
      ]
    },
    {
      "cell_type": "markdown",
      "metadata": {
        "id": "2Vu-l3w98HVq"
      },
      "source": [
        "Pooling"
      ]
    },
    {
      "cell_type": "code",
      "execution_count": null,
      "metadata": {
        "id": "0NrhWL7D8IUB"
      },
      "outputs": [],
      "source": [
        "cnn.add(tf.keras.layers.MaxPool2D(pool_size=2, strides=2))"
      ]
    },
    {
      "cell_type": "markdown",
      "metadata": {
        "id": "bie_5hHE8Lf2"
      },
      "source": [
        "Adding a second convolutional layer"
      ]
    },
    {
      "cell_type": "code",
      "execution_count": null,
      "metadata": {
        "id": "rYf0E01W8OKj"
      },
      "outputs": [],
      "source": [
        "cnn.add(tf.keras.layers.Conv2D(filters=32, kernel_size=3, activation='relu'))\n",
        "cnn.add(tf.keras.layers.MaxPool2D(pool_size=2, strides=2))"
      ]
    },
    {
      "cell_type": "markdown",
      "metadata": {
        "id": "it1-q3HO8Qvd"
      },
      "source": [
        "Flattening"
      ]
    },
    {
      "cell_type": "code",
      "execution_count": null,
      "metadata": {
        "id": "l-ekpxAg8S4w"
      },
      "outputs": [],
      "source": [
        "cnn.add(tf.keras.layers.Flatten())"
      ]
    },
    {
      "cell_type": "markdown",
      "metadata": {
        "id": "eraYa0hD8VYW"
      },
      "source": [
        "Full Connection"
      ]
    },
    {
      "cell_type": "code",
      "execution_count": null,
      "metadata": {
        "id": "bSg453Il8X7N"
      },
      "outputs": [],
      "source": [
        "cnn.add(tf.keras.layers.Dense(units=128, activation='relu'))"
      ]
    },
    {
      "cell_type": "markdown",
      "metadata": {
        "id": "OjsbLZ0K8a7z"
      },
      "source": [
        "Output Layer"
      ]
    },
    {
      "cell_type": "code",
      "execution_count": null,
      "metadata": {
        "id": "Xjw3ZsLW8et8"
      },
      "outputs": [],
      "source": [
        "cnn.add(tf.keras.layers.Dense(units=1, activation='sigmoid'))"
      ]
    },
    {
      "cell_type": "markdown",
      "metadata": {
        "id": "Y_BWlwG38iu9"
      },
      "source": [
        "# Training the CNN"
      ]
    },
    {
      "cell_type": "markdown",
      "metadata": {
        "id": "hY-x8_JX8nKr"
      },
      "source": [
        "Compiling the CNN"
      ]
    },
    {
      "cell_type": "code",
      "execution_count": null,
      "metadata": {
        "id": "gfC4TYc78lYQ"
      },
      "outputs": [],
      "source": [
        "cnn.compile(optimizer = 'adam', loss = 'binary_crossentropy', metrics = ['accuracy'])"
      ]
    },
    {
      "cell_type": "markdown",
      "metadata": {
        "id": "6dK08JAa8tJF"
      },
      "source": [
        "Training the CNN on the Training set and evaluating it on the Test set"
      ]
    },
    {
      "cell_type": "code",
      "execution_count": null,
      "metadata": {
        "colab": {
          "base_uri": "https://localhost:8080/"
        },
        "id": "sdikTPTU8v3I",
        "outputId": "5b9b6e61-b2f7-482a-f268-b58c7b377dfd"
      },
      "outputs": [
        {
          "output_type": "stream",
          "name": "stdout",
          "text": [
            "Epoch 1/25\n",
            "254/254 [==============================] - 43s 169ms/step - loss: 0.0741 - accuracy: 0.9717 - val_loss: 0.9259 - val_accuracy: 0.7955\n",
            "Epoch 2/25\n",
            "254/254 [==============================] - 43s 167ms/step - loss: 0.0747 - accuracy: 0.9718 - val_loss: 0.9677 - val_accuracy: 0.7940\n",
            "Epoch 3/25\n",
            "254/254 [==============================] - 42s 167ms/step - loss: 0.0716 - accuracy: 0.9721 - val_loss: 0.8949 - val_accuracy: 0.8060\n",
            "Epoch 4/25\n",
            "254/254 [==============================] - 42s 167ms/step - loss: 0.0722 - accuracy: 0.9736 - val_loss: 0.9580 - val_accuracy: 0.8005\n",
            "Epoch 5/25\n",
            "254/254 [==============================] - 43s 171ms/step - loss: 0.0666 - accuracy: 0.9761 - val_loss: 0.8886 - val_accuracy: 0.8055\n",
            "Epoch 6/25\n",
            "254/254 [==============================] - 42s 167ms/step - loss: 0.0639 - accuracy: 0.9760 - val_loss: 1.0207 - val_accuracy: 0.7945\n",
            "Epoch 7/25\n",
            "254/254 [==============================] - 42s 167ms/step - loss: 0.0656 - accuracy: 0.9770 - val_loss: 0.9254 - val_accuracy: 0.8130\n",
            "Epoch 8/25\n",
            "254/254 [==============================] - 42s 165ms/step - loss: 0.0650 - accuracy: 0.9754 - val_loss: 0.9797 - val_accuracy: 0.8085\n",
            "Epoch 9/25\n",
            "254/254 [==============================] - 42s 167ms/step - loss: 0.0600 - accuracy: 0.9792 - val_loss: 1.1144 - val_accuracy: 0.7805\n",
            "Epoch 10/25\n",
            "254/254 [==============================] - 42s 167ms/step - loss: 0.0612 - accuracy: 0.9777 - val_loss: 1.0191 - val_accuracy: 0.7925\n",
            "Epoch 11/25\n",
            "254/254 [==============================] - 43s 171ms/step - loss: 0.0515 - accuracy: 0.9829 - val_loss: 1.1119 - val_accuracy: 0.7910\n",
            "Epoch 12/25\n",
            "254/254 [==============================] - 42s 167ms/step - loss: 0.0629 - accuracy: 0.9782 - val_loss: 1.0259 - val_accuracy: 0.7965\n",
            "Epoch 13/25\n",
            "254/254 [==============================] - 43s 168ms/step - loss: 0.0617 - accuracy: 0.9799 - val_loss: 1.0165 - val_accuracy: 0.8060\n",
            "Epoch 14/25\n",
            "254/254 [==============================] - 42s 167ms/step - loss: 0.0617 - accuracy: 0.9788 - val_loss: 1.0634 - val_accuracy: 0.7975\n",
            "Epoch 15/25\n",
            "254/254 [==============================] - 42s 166ms/step - loss: 0.0558 - accuracy: 0.9790 - val_loss: 1.0977 - val_accuracy: 0.7915\n",
            "Epoch 16/25\n",
            "254/254 [==============================] - 42s 166ms/step - loss: 0.0561 - accuracy: 0.9804 - val_loss: 1.0705 - val_accuracy: 0.7840\n",
            "Epoch 17/25\n",
            "254/254 [==============================] - 43s 169ms/step - loss: 0.0658 - accuracy: 0.9760 - val_loss: 1.0721 - val_accuracy: 0.7910\n",
            "Epoch 18/25\n",
            "254/254 [==============================] - 43s 170ms/step - loss: 0.0580 - accuracy: 0.9793 - val_loss: 1.0311 - val_accuracy: 0.8025\n",
            "Epoch 19/25\n",
            "254/254 [==============================] - 42s 167ms/step - loss: 0.0579 - accuracy: 0.9810 - val_loss: 1.0062 - val_accuracy: 0.7875\n",
            "Epoch 20/25\n",
            "254/254 [==============================] - 42s 165ms/step - loss: 0.0496 - accuracy: 0.9818 - val_loss: 1.3803 - val_accuracy: 0.7635\n",
            "Epoch 21/25\n",
            "254/254 [==============================] - 43s 167ms/step - loss: 0.0469 - accuracy: 0.9837 - val_loss: 1.2789 - val_accuracy: 0.7745\n",
            "Epoch 22/25\n",
            "254/254 [==============================] - 42s 167ms/step - loss: 0.0455 - accuracy: 0.9840 - val_loss: 1.1957 - val_accuracy: 0.7860\n",
            "Epoch 23/25\n",
            "254/254 [==============================] - 42s 167ms/step - loss: 0.0493 - accuracy: 0.9803 - val_loss: 1.2017 - val_accuracy: 0.7775\n",
            "Epoch 24/25\n",
            "254/254 [==============================] - 43s 168ms/step - loss: 0.0498 - accuracy: 0.9825 - val_loss: 1.0660 - val_accuracy: 0.8005\n",
            "Epoch 25/25\n",
            "254/254 [==============================] - 43s 171ms/step - loss: 0.0481 - accuracy: 0.9840 - val_loss: 1.0573 - val_accuracy: 0.8120\n"
          ]
        },
        {
          "output_type": "execute_result",
          "data": {
            "text/plain": [
              "<keras.callbacks.History at 0x7fab146e6910>"
            ]
          },
          "metadata": {},
          "execution_count": 19
        }
      ],
      "source": [
        "#cnn.fit(x = training_set, validation_data = test_set, epochs = 25)\n",
        "cnn.fit(x = training_set, epochs=25, validation_data=test_set)"
      ]
    },
    {
      "cell_type": "markdown",
      "metadata": {
        "id": "yFCUi4tI874N"
      },
      "source": [
        "# Making Predictions"
      ]
    },
    {
      "cell_type": "code",
      "execution_count": null,
      "metadata": {
        "id": "6uV9vD0C8__1",
        "colab": {
          "base_uri": "https://localhost:8080/"
        },
        "outputId": "2c27b4a3-c459-4364-a483-c8343842d483"
      },
      "outputs": [
        {
          "output_type": "stream",
          "name": "stdout",
          "text": [
            "0.0008619299\n",
            "cat\n"
          ]
        }
      ],
      "source": [
        "test_image = image.load_img('/content/drive/MyDrive/dataset/single_prediction/dog or cat_1.jpeg', target_size = (64, 64))\n",
        "test_image = image.img_to_array(test_image)\n",
        "test_image = np.expand_dims(test_image, axis = 0)\n",
        "result = cnn.predict(test_image/255.0)\n",
        "training_set.class_indices\n",
        "print(result[0][0])\n",
        "if result[0][0] > 0.5:\n",
        "  prediction = 'dog'\n",
        "else:\n",
        "  prediction = 'cat'\n",
        "\n",
        "print(prediction)"
      ]
    }
  ],
  "metadata": {
    "colab": {
      "name": "Dog_Cat_Image_Classifier_CNN.ipynb",
      "provenance": []
    },
    "kernelspec": {
      "display_name": "Python 3",
      "name": "python3"
    },
    "language_info": {
      "name": "python"
    },
    "gpuClass": "standard",
    "accelerator": "GPU"
  },
  "nbformat": 4,
  "nbformat_minor": 0
}